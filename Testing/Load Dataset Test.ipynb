{
 "cells": [
  {
   "cell_type": "markdown",
   "metadata": {},
   "source": [
    "First create a virtual python environment to run this code. Then execute the block below to install dependencies"
   ]
  },
  {
   "cell_type": "code",
   "execution_count": 1,
   "metadata": {},
   "outputs": [],
   "source": [
    "! pip install -q datasets ipywidgets requests tqdm"
   ]
  },
  {
   "cell_type": "markdown",
   "metadata": {},
   "source": [
    "Download and Save (OR LOAD) the Data"
   ]
  },
  {
   "cell_type": "code",
   "execution_count": null,
   "metadata": {},
   "outputs": [
    {
     "name": "stdout",
     "output_type": "stream",
     "text": [
      "Loading dataset from disk\n"
     ]
    }
   ],
   "source": [
    "import os\n",
    "from datasets import load_dataset, DatasetDict\n",
    "\n",
    "# os.environ['HF_HUB_TIMEOUT'] = \"20\"\n",
    "# os.environ['HF_HUB_ETAG_TIMEOUT'] = \"20\"\n",
    "\n",
    "if os.path.exists(\"charades_dataset\"):\n",
    "\tprint(\"Loading dataset from disk\")\n",
    "\tdataset = DatasetDict.load_from_disk(\"charades_dataset\")\n",
    "else:\n",
    "\tdataset = load_dataset(\"../charadesMeddled.py\", '480p', trust_remote_code=True)\n",
    "\tdataset.save_to_disk(\"charades_dataset\")"
   ]
  },
  {
   "cell_type": "code",
   "execution_count": 3,
   "metadata": {},
   "outputs": [
    {
     "name": "stdout",
     "output_type": "stream",
     "text": [
      "{'video_id': 'YSKX3', 'video': './extracted\\\\Charades_v1\\\\YSKX3.mp4', 'subject': 'CP6Y', 'scene': 'Bedroom', 'quality': 5, 'relevance': 6, 'verified': 'Yes', 'script': 'A person fixes the bed then throws pillow on it.', 'objects': ['bed', 'blanket', 'mattress', 'pillow'], 'descriptions': ['A person looks under a mattress and pats the bed.  This person picks up a pillow, and throws it on the bed.', 'A person is in a bedroom.  The person is fixing the bed. After the person cleans up his bed, the person leaves.'], 'labels': [77, 79, 80, 76, 75], 'action_timings': [[12.100000381469727, 18.0], [11.800000190734863, 17.299999237060547], [13.0, 18.0], [11.800000190734863, 17.5], [5.400000095367432, 14.100000381469727]], 'length': 16.6200008392334}\n"
     ]
    }
   ],
   "source": [
    "tmp = dataset['test']\n",
    "print(tmp[0])"
   ]
  }
 ],
 "metadata": {
  "kernelspec": {
   "display_name": ".venv",
   "language": "python",
   "name": "python3"
  },
  "language_info": {
   "codemirror_mode": {
    "name": "ipython",
    "version": 3
   },
   "file_extension": ".py",
   "mimetype": "text/x-python",
   "name": "python",
   "nbconvert_exporter": "python",
   "pygments_lexer": "ipython3",
   "version": "3.11.9"
  }
 },
 "nbformat": 4,
 "nbformat_minor": 2
}
